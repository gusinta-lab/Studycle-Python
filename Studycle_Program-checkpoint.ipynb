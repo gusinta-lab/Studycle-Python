{
 "cells": [
  {
   "cell_type": "code",
   "execution_count": 23,
   "metadata": {},
   "outputs": [
    {
     "name": "stdout",
     "output_type": "stream",
     "text": [
      "Input integers:\n",
      "-2 5 2\n",
      "After sorting the said integers:\n",
      "-2 2 5\n",
      "The average is 1.6666666666666667\n",
      "The median is 2\n",
      "The multiplication is -20\n"
     ]
    }
   ],
   "source": [
    "print(\"Input integers:\")\n",
    "n_num = list(map(int, input().split()))\n",
    "n_num.sort()\n",
    "print(\"After sorting the said integers:\")\n",
    "print(*n_num)\n",
    "n = len(n_num)\n",
    "\n",
    "def cal_average(n_num):\n",
    "    sum_num = 0\n",
    "    for t in n_num:\n",
    "        sum_num = sum_num + t           \n",
    "        avg = sum_num / n\n",
    "    return avg\n",
    "print(\"The average is\", cal_average(n_num))\n",
    "\n",
    "def cal_median(n_num):\n",
    "    if n % 2 == 0:\n",
    "        median1 = n_num[n//2]\n",
    "        median2 = n_num[n//2 - 1]\n",
    "        median = (median1 + median2)/2\n",
    "    else:\n",
    "        median = n_num[n//2]\n",
    "    return median\n",
    "print(\"The median is\", cal_median(n_num))\n",
    "\n",
    "def multiplyList(n_num) :\n",
    "    result = 1\n",
    "    for x in n_num:\n",
    "         result = result * x\n",
    "    return result\n",
    "\n",
    "\n",
    "print(\"The multiplication is\",multiplyList(n_num))"
   ]
  }
 ],
 "metadata": {
  "kernelspec": {
   "display_name": "Python 3",
   "language": "python",
   "name": "python3"
  },
  "language_info": {
   "codemirror_mode": {
    "name": "ipython",
    "version": 3
   },
   "file_extension": ".py",
   "mimetype": "text/x-python",
   "name": "python",
   "nbconvert_exporter": "python",
   "pygments_lexer": "ipython3",
   "version": "3.8.5"
  }
 },
 "nbformat": 4,
 "nbformat_minor": 4
}
